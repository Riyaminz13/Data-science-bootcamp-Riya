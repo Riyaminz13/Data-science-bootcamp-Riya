{
 "cells": [
  {
   "cell_type": "code",
   "execution_count": 1,
   "id": "a1360c67",
   "metadata": {},
   "outputs": [
    {
     "data": {
      "text/plain": [
       "15"
      ]
     },
     "execution_count": 1,
     "metadata": {},
     "output_type": "execute_result"
    }
   ],
   "source": [
    "def sum_of_natural_numbers(n): \n",
    "    if n == 0:\n",
    "        return 0\n",
    "    \n",
    "    small_ans = sum_of_natural_numbers(n-1)\n",
    "    ans = n + small_ans\n",
    "    return ans\n",
    "\n",
    "n = 5\n",
    "sum_of_natural_numbers(n)"
   ]
  },
  {
   "cell_type": "code",
   "execution_count": null,
   "id": "92022561",
   "metadata": {},
   "outputs": [],
   "source": []
  },
  {
   "cell_type": "code",
   "execution_count": null,
   "id": "f2cff263",
   "metadata": {},
   "outputs": [],
   "source": []
  }
 ],
 "metadata": {
  "kernelspec": {
   "display_name": "venv",
   "language": "python",
   "name": "python3"
  },
  "language_info": {
   "codemirror_mode": {
    "name": "ipython",
    "version": 3
   },
   "file_extension": ".py",
   "mimetype": "text/x-python",
   "name": "python",
   "nbconvert_exporter": "python",
   "pygments_lexer": "ipython3",
   "version": "3.12.7"
  }
 },
 "nbformat": 4,
 "nbformat_minor": 5
}
