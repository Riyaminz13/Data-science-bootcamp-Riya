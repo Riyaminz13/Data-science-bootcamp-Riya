{
 "cells": [
  {
   "cell_type": "code",
   "execution_count": 6,
   "id": "c2295a27",
   "metadata": {},
   "outputs": [
    {
     "name": "stdout",
     "output_type": "stream",
     "text": [
      "money trasfered\n"
     ]
    }
   ],
   "source": [
    "# Bank account system \n",
    "class BankAccount:\n",
    "    Account_counter = 1000\n",
    "    def __init__(self, account_holder, initial_balance):\n",
    "        self.account_number = BankAccount.Account_counter\n",
    "        BankAccount.Account_counter += 1\n",
    "        self.account_holder = account_holder\n",
    "        self.initial_balance = initial_balance\n",
    "\n",
    "    def deposit (self,amount):\n",
    "        self.initial_balance += amount\n",
    "        return f\"deposit amount: {self.initial_balance}\"\n",
    "    \n",
    "    def withdraw (self,amount):\n",
    "        if amount > self.initial_balance:\n",
    "            print(\"insufficient Balance\")\n",
    "        else:\n",
    "            self.initial_balance -= amount\n",
    "    \n",
    "    def transfer (self, target_account, amount):\n",
    "        if isinstance(target_account,BankAccount) and amount > 0 :\n",
    "            self.withdraw(amount)\n",
    "            target_account.deposit(amount)\n",
    "            print(\"money trasfered\")\n",
    "        else:\n",
    "            raise ValueError(\"Invalid transfer target or amount\")\n",
    "        \n",
    "acc3 = BankAccount(\"Alice Johnson\", 500) \n",
    "acc4 = BankAccount(\"Bob Brown\", 1500) \n",
    "acc3.deposit(100)\n",
    "acc4.withdraw(200) \n",
    "acc3.transfer(acc4, 300)"
   ]
  },
  {
   "cell_type": "code",
   "execution_count": null,
   "id": "2d3dae57",
   "metadata": {},
   "outputs": [
    {
     "data": {
      "text/plain": [
       "15"
      ]
     },
     "execution_count": 4,
     "metadata": {},
     "output_type": "execute_result"
    }
   ],
   "source": [
    "# calulator \n",
    "class Calculator:\n",
    "    def __init__(self,num1, num2):\n",
    "        self.num1 = num1\n",
    "        self.num2 = num2\n",
    "\n",
    "    def add (self):\n",
    "        return self.num1 + self.num2\n",
    "    \n",
    "    def subtract (self):\n",
    "        return self.num1 - self.num2\n",
    "    \n",
    "    def multipication (self, factor):\n",
    "        # self.fac = factor\n",
    "        return self.num1 * factor\n",
    "    \n",
    "    def divide (self,divisor):\n",
    "        # self.div = divisor\n",
    "        if divisor == 0:\n",
    "            print(\"divisor must be greater then zero\")\n",
    "            return None\n",
    "        else:\n",
    "            return self.num1 / divisor\n",
    "        \n",
    "calculator = Calculator(10,5)\n",
    "\n",
    "calculator.add()\n",
    "calculator.subtract()\n",
    "calculator.multipication(10)\n",
    "calculator.divide(0)\n",
    "calculator.divide(2)"
   ]
  },
  {
   "cell_type": "code",
   "execution_count": null,
   "id": "5fadd7d1",
   "metadata": {},
   "outputs": [],
   "source": []
  }
 ],
 "metadata": {
  "kernelspec": {
   "display_name": "venv",
   "language": "python",
   "name": "python3"
  },
  "language_info": {
   "codemirror_mode": {
    "name": "ipython",
    "version": 3
   },
   "file_extension": ".py",
   "mimetype": "text/x-python",
   "name": "python",
   "nbconvert_exporter": "python",
   "pygments_lexer": "ipython3",
   "version": "3.12.7"
  }
 },
 "nbformat": 4,
 "nbformat_minor": 5
}
