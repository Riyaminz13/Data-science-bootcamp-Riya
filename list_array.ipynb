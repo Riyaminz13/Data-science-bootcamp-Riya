{
 "cells": [
  {
   "cell_type": "code",
   "execution_count": 2,
   "id": "19fc3c3e",
   "metadata": {},
   "outputs": [
    {
     "name": "stdout",
     "output_type": "stream",
     "text": [
      "[1, 2, 4]\n"
     ]
    }
   ],
   "source": [
    "def plus_one(digits):\n",
    "    carry = 1\n",
    "    for i in range (len(digits) -1 , -1, -1):\n",
    "        total = digits[i] + carry\n",
    "        digits[i] = total % 10\n",
    "        carry = total // 10 \n",
    "    if carry:\n",
    "        digits.insert(0,carry)\n",
    "    return digits\n",
    "digits = [1, 2, 3]\n",
    "print(plus_one(digits))"
   ]
  },
  {
   "cell_type": "code",
   "execution_count": 26,
   "id": "00646656",
   "metadata": {},
   "outputs": [
    {
     "name": "stdout",
     "output_type": "stream",
     "text": [
      "2\n"
     ]
    }
   ],
   "source": [
    "def find_missing_number(nums):\n",
    "    nums.sort()\n",
    "    count = 0 \n",
    "    for i in range(len(nums)):\n",
    "        if i == nums[i]:\n",
    "            count += 1\n",
    "        else:\n",
    "            return i \n",
    "    return count\n",
    "nums = [3,0, 1]\n",
    "print(find_missing_number(nums))"
   ]
  },
  {
   "cell_type": "code",
   "execution_count": 27,
   "id": "122c0596",
   "metadata": {},
   "outputs": [
    {
     "name": "stdout",
     "output_type": "stream",
     "text": [
      "True\n"
     ]
    }
   ],
   "source": [
    "def is_sorted(arr):\n",
    "    if arr == sorted(arr):\n",
    "        return True\n",
    "    else:\n",
    "        return False\n",
    "arr = [1, 2, 3, 4, 5]\n",
    "print(is_sorted(arr))\n"
   ]
  },
  {
   "cell_type": "code",
   "execution_count": 24,
   "id": "aea81e00",
   "metadata": {},
   "outputs": [
    {
     "name": "stdout",
     "output_type": "stream",
     "text": [
      "[1, 2, 3, 4, 5]\n"
     ]
    }
   ],
   "source": [
    "arr = [1, 2, 3, 4, 5]\n",
    "print(sorted(arr))\n",
    "# print(arr[::-1])"
   ]
  },
  {
   "cell_type": "code",
   "execution_count": 40,
   "id": "da5214d4",
   "metadata": {},
   "outputs": [
    {
     "name": "stdout",
     "output_type": "stream",
     "text": [
      "[1, 3, 12, 0, 0]\n"
     ]
    }
   ],
   "source": [
    "# move zero \n",
    "def move_zeroes(nums):\n",
    "    zeros = []\n",
    "    elements = []\n",
    "    for num in nums:\n",
    "        if num == 0:\n",
    "            zeros.append(num)\n",
    "        else:\n",
    "            elements.append(num)\n",
    "    elements.extend(zeros)\n",
    "    return elements\n",
    "\n",
    "nums = [0, 1, 0, 3, 12]\n",
    "print(move_zeroes(nums))"
   ]
  },
  {
   "cell_type": "code",
   "execution_count": 46,
   "id": "3c374268",
   "metadata": {},
   "outputs": [
    {
     "name": "stdout",
     "output_type": "stream",
     "text": [
      "[1, 3, 12, 0, 0]\n"
     ]
    }
   ],
   "source": [
    "def move_zeroes(nums):\n",
    "    position = 0\n",
    "    for num in nums:\n",
    "        if num != 0:\n",
    "            nums[position] = num\n",
    "            position +=1\n",
    "    while position < len(nums):\n",
    "        nums[position] = 0\n",
    "        position +=1\n",
    "    return nums\n",
    "\n",
    "nums = [0, 1, 0, 3, 12]\n",
    "print(move_zeroes(nums))"
   ]
  },
  {
   "cell_type": "code",
   "execution_count": 8,
   "id": "c841d118",
   "metadata": {},
   "outputs": [
    {
     "name": "stdout",
     "output_type": "stream",
     "text": [
      "[9, 4]\n"
     ]
    }
   ],
   "source": [
    "def intersection(nums1, nums2):\n",
    "   inter = []\n",
    "   for num in nums2:\n",
    "        if num in nums1:\n",
    "            if num not in inter:\n",
    "                inter.append(num)\n",
    "   return inter\n",
    "nums1 = [4, 9, 5]\n",
    "nums2 = [9, 4, 9, 8, 4]\n",
    "print (intersection(nums1, nums2))"
   ]
  },
  {
   "cell_type": "code",
   "execution_count": 15,
   "id": "a7e40d2f",
   "metadata": {},
   "outputs": [
    {
     "name": "stdout",
     "output_type": "stream",
     "text": [
      "2\n"
     ]
    }
   ],
   "source": [
    "# find max consecutive ones \n",
    "def find_max_consecutive_ones(nums):\n",
    "    count = 0\n",
    "    max_count = 0\n",
    "    for num in nums:\n",
    "        if num == 1:\n",
    "            count += 1\n",
    "            max_count = max(max_count,count)\n",
    "        else:\n",
    "            count = 0\n",
    "    return max_count\n",
    "nums = [1, 1]\n",
    "print(find_max_consecutive_ones(nums))"
   ]
  },
  {
   "cell_type": "code",
   "execution_count": 1,
   "id": "7b02c2a5",
   "metadata": {},
   "outputs": [],
   "source": [
    "def max_subarray_sum(arr):\n",
    "    count = 0\n",
    "    max_count = 0\n",
    "    for num in nums:\n",
    "        count = num + count\n",
    "        max_count = max(max_count,count)\n",
    "        count = 0\n",
    "        "
   ]
  },
  {
   "cell_type": "code",
   "execution_count": 7,
   "id": "1dd72b9c",
   "metadata": {},
   "outputs": [
    {
     "name": "stdout",
     "output_type": "stream",
     "text": [
      "[[1], [1, 1], [1, 2, 1]]\n"
     ]
    }
   ],
   "source": [
    "def generate(numRows):\n",
    "   triangle = []\n",
    "   for row in range (numRows):\n",
    "      new_row = [1]\n",
    "      if triangle:\n",
    "         last_row = triangle[-1]\n",
    "         for i in range(1,row):\n",
    "            new_row.append(last_row[i-1]+last_row[i])\n",
    "         new_row.append(1)\n",
    "      triangle.append(new_row)\n",
    "   return triangle\n",
    "numRows = 3\n",
    "print(generate(numRows))"
   ]
  },
  {
   "cell_type": "code",
   "execution_count": 8,
   "id": "bbdc57dc",
   "metadata": {},
   "outputs": [
    {
     "name": "stdout",
     "output_type": "stream",
     "text": [
      "[[15, 13, 2, 5], [14, 3, 4, 1], [12, 6, 8, 9], [16, 7, 10, 11]]\n"
     ]
    }
   ],
   "source": [
    "# rotate image \n",
    "def rotate(matrix):\n",
    "    n = len(matrix)\n",
    "    for i in range (n):\n",
    "        for j in range(i+1,n):\n",
    "            matrix[i][j],matrix[j][i] = matrix[j][i],matrix[i][j]\n",
    "    for row in matrix:\n",
    "        row.reverse()\n",
    "    return matrix\n",
    "matrix = [[5, 1, 9, 11], [2, 4, 8, 10],[13, 3, 6, 7],[15, 14, 12, 16]]\n",
    "print(rotate(matrix))"
   ]
  },
  {
   "cell_type": "code",
   "execution_count": 3,
   "id": "836e3834",
   "metadata": {},
   "outputs": [
    {
     "name": "stdout",
     "output_type": "stream",
     "text": [
      "True\n"
     ]
    }
   ],
   "source": [
    "# matrix obtained by rotation or not \n",
    "def can_be_rotated(mat, target):\n",
    "    for _ in range(4):\n",
    "        if mat == target:\n",
    "            return True\n",
    "        mat = mat_rotat(mat)\n",
    "    return False\n",
    "def mat_rotat (mat):\n",
    "    # rotating the matrix by 90\n",
    "    return [list(row)[::-1] for row in zip(*mat)]\n",
    "mat = [[0, 0, 0], [0, 1, 0], [1, 1, 1]]\n",
    "target = [[1, 1, 1], [0, 1, 0], [0, 0, 0]]\n",
    "print(can_be_rotated(mat, target))\n"
   ]
  },
  {
   "cell_type": "code",
   "execution_count": 11,
   "id": "ce46a0ea",
   "metadata": {},
   "outputs": [
    {
     "name": "stdout",
     "output_type": "stream",
     "text": [
      "[1, 2, 3, 4, 8, 12, 11, 10, 9, 5, 6, 7]\n"
     ]
    }
   ],
   "source": [
    "# spiral matrix \n",
    "def spiral_order(matrix):\n",
    "    result = []\n",
    "    if not matrix:\n",
    "        return result\n",
    "    top, bottom = 0, len(matrix)-1\n",
    "    left, right = 0, len(matrix[0])-1\n",
    "    while top <= bottom and left <= right:\n",
    "        for col in range(left,right + 1):\n",
    "            result.append(matrix[top][col])\n",
    "        top += 1\n",
    "        for row in range(top,bottom + 1):\n",
    "            result.append(matrix[row][right])\n",
    "        right -= 1\n",
    "        if top <= bottom:\n",
    "            for col in range (right,left-1,-1):\n",
    "                result.append(matrix[bottom][col])\n",
    "            bottom -= 1\n",
    "        if left <= right:\n",
    "            for row in range(bottom,top-1,-1):\n",
    "                result.append(matrix[row][left])\n",
    "            left +=1\n",
    "    return result\n",
    "matrix = [[1, 2, 3, 4],[5, 6, 7, 8],[9, 10, 11, 12]]\n",
    "print( spiral_order(matrix))"
   ]
  },
  {
   "cell_type": "code",
   "execution_count": null,
   "id": "ef93083e",
   "metadata": {},
   "outputs": [
    {
     "name": "stdout",
     "output_type": "stream",
     "text": [
      "False\n"
     ]
    }
   ],
   "source": [
    "# search martix \n",
    "def search_matrix(matrix, target):\n",
    "    if not matrix:\n",
    "        return False\n",
    "    for row in matrix:\n",
    "        for value in row:\n",
    "            if value == target:\n",
    "                return True\n",
    "    return False\n",
    "    \n",
    "matrix = [[1, 3, 5, 7], [10, 11, 16, 20], [23, 30, 34, 60]]\n",
    "target = 13\n",
    "print(search_matrix(matrix,target))"
   ]
  },
  {
   "cell_type": "code",
   "execution_count": 5,
   "id": "28758544",
   "metadata": {},
   "outputs": [
    {
     "name": "stdout",
     "output_type": "stream",
     "text": [
      "[[1, 2, 3, 4]]\n"
     ]
    }
   ],
   "source": [
    "# matrix reshaped \n",
    "def matrix_reshape(mat, r, c):\n",
    "    m,n = len(mat), len(mat[0])\n",
    "    total_number= m*n\n",
    "\n",
    "    if total_number != r*c:\n",
    "        return mat\n",
    "    \n",
    "    oneDlist= [num for row in mat for num in row]\n",
    "\n",
    "    reshaped = []\n",
    "    for i in range(r):\n",
    "        reshaped.append(oneDlist[i*c : (i + 1)*c])\n",
    "    return reshaped\n",
    "mat = [[1, 2], [3, 4]]\n",
    "r = 1\n",
    "c = 4\n",
    "print(matrix_reshape(mat, r, c))\n"
   ]
  },
  {
   "cell_type": "code",
   "execution_count": null,
   "id": "4569b058",
   "metadata": {},
   "outputs": [],
   "source": []
  }
 ],
 "metadata": {
  "kernelspec": {
   "display_name": "venv",
   "language": "python",
   "name": "python3"
  },
  "language_info": {
   "codemirror_mode": {
    "name": "ipython",
    "version": 3
   },
   "file_extension": ".py",
   "mimetype": "text/x-python",
   "name": "python",
   "nbconvert_exporter": "python",
   "pygments_lexer": "ipython3",
   "version": "3.12.7"
  }
 },
 "nbformat": 4,
 "nbformat_minor": 5
}
