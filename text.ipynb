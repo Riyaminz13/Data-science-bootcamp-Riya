{
 "cells": [
  {
   "cell_type": "code",
   "execution_count": 2,
   "metadata": {},
   "outputs": [
    {
     "name": "stdout",
     "output_type": "stream",
     "text": [
      "sum: 15.0\n",
      "sub 5.0\n",
      "mult: 50.0\n",
      "diff: 2.0\n"
     ]
    }
   ],
   "source": [
    "### calculator \n",
    "num1= float(input(\"enter the 1st value:\"))\n",
    "num2=float(input(\"enter the seconfd value:\"))\n",
    "\n",
    "sum=num1+num2\n",
    "subtract=num1-num2\n",
    "multiply=num1*num2\n",
    "diffrence=num1/num2\n",
    "\n",
    "print(\"sum:\",sum)\n",
    "print(\"sub\",subtract)\n",
    "print(\"mult:\",multiply)\n",
    "print(\"diff:\",diffrence)"
   ]
  },
  {
   "cell_type": "code",
   "execution_count": 2,
   "metadata": {},
   "outputs": [
    {
     "name": "stdout",
     "output_type": "stream",
     "text": [
      "this is leap year\n"
     ]
    }
   ],
   "source": [
    "## check if the year is a leap year or not \n",
    "year= int(input(\"enter the year:\"))\n",
    "if year%4==0:\n",
    "    print(\"this is leap year\")\n",
    "else:\n",
    "    print(\"year is not a leap year\")\n",
    "\n",
    "\n",
    "        \n",
    "         \n",
    "               "
   ]
  },
  {
   "cell_type": "code",
   "execution_count": 2,
   "metadata": {},
   "outputs": [
    {
     "name": "stdout",
     "output_type": "stream",
     "text": [
      "Result: 200\n"
     ]
    }
   ],
   "source": [
    "#### simple calcultor\n",
    "num1= int(input(\"enter 1st veriable:\"))\n",
    "num2=int(input(\"enter 2nd veriabl:\"))\n",
    "operator=input(\"inter the operator(+,-,*,/)\")\n",
    "\n",
    "if operator=='+':\n",
    "    result=num1+num2\n",
    "elif operator=='-':\n",
    "    result= num1-num2\n",
    "elif operator=='*':\n",
    "    result = num1*num2\n",
    "elif operator=='/':\n",
    "    if num2 !=0:\n",
    "       result = num1/num2\n",
    "    else:\n",
    "        result= \"error! divisor in zero\"\n",
    "else :result=\"defalut operator\"\n",
    "\n",
    "print(\"Result:\",result)"
   ]
  },
  {
   "cell_type": "code",
   "execution_count": 1,
   "metadata": {},
   "outputs": [
    {
     "name": "stdout",
     "output_type": "stream",
     "text": [
      "your age is: 46\n",
      "your ticket price is: 20$\n"
     ]
    }
   ],
   "source": [
    "## determine the ticket price based of=n age and wheather the person is student or not \n",
    "\n",
    "age= int(input(\"enter the age:\"))\n",
    "is_student = input(\"Are you a student: yes/no\")\n",
    "\n",
    "if age < 5:\n",
    "    ticket_price=\"free\"\n",
    "elif age <=12:\n",
    "    ticket_price =\"10$\"\n",
    "elif age<= 17:\n",
    "    if is_student ==\"yes\":\n",
    "        ticket_price =\"12$\"\n",
    "    else:\n",
    "        ticket_price =\"15$\"\n",
    "elif age <=65:\n",
    "    if is_student ==\"yes\":\n",
    "        ticket_price=\"18$\"\n",
    "    else: \n",
    "        ticket_price=\"20$\"\n",
    "else:\"Not apllicable\"\n",
    "\n",
    "print(\"your age is:\", age)\n",
    "print(\"your ticket price is:\",ticket_price)\n",
    "\n"
   ]
  },
  {
   "cell_type": "code",
   "execution_count": 3,
   "metadata": {},
   "outputs": [
    {
     "name": "stdout",
     "output_type": "stream",
     "text": [
      "2\n",
      "3\n",
      "5\n",
      "7\n",
      "11\n",
      "13\n",
      "17\n",
      "19\n",
      "23\n",
      "29\n",
      "31\n",
      "37\n",
      "41\n",
      "43\n",
      "47\n",
      "53\n",
      "59\n",
      "61\n",
      "67\n",
      "71\n",
      "73\n",
      "79\n",
      "83\n",
      "89\n",
      "97\n"
     ]
    }
   ],
   "source": [
    "### loops \n",
    "### check prime number \n",
    "\n",
    "for num in range(1,101):\n",
    "    if num > 1:\n",
    "        for i in range(2,num):\n",
    "            if num%i==0:\n",
    "                break\n",
    "        else:print(num)\n"
   ]
  },
  {
   "cell_type": "code",
   "execution_count": 1,
   "metadata": {},
   "outputs": [
    {
     "name": "stdout",
     "output_type": "stream",
     "text": [
      "the sum of firsr 10 natural number 55\n"
     ]
    }
   ],
   "source": [
    "## calculate the sum of first N natural number \n",
    "n = 10\n",
    "sum = 0\n",
    "count = 1\n",
    "while count<=n:\n",
    "     sum=sum+count\n",
    "     count= count+1\n",
    "\n",
    "print(\"the sum of firsr 10 natural number\",sum)"
   ]
  },
  {
   "cell_type": "code",
   "execution_count": 6,
   "metadata": {},
   "outputs": [
    {
     "data": {
      "text/plain": [
       "set"
      ]
     },
     "execution_count": 6,
     "metadata": {},
     "output_type": "execute_result"
    }
   ],
   "source": [
    "empty_dict=set()\n",
    "type(empty_dict)"
   ]
  },
  {
   "cell_type": "code",
   "execution_count": 3,
   "metadata": {},
   "outputs": [
    {
     "name": "stdout",
     "output_type": "stream",
     "text": [
      "{'name': 'riya', 'class': 'intermediate'}\n"
     ]
    },
    {
     "data": {
      "text/plain": [
       "dict"
      ]
     },
     "execution_count": 3,
     "metadata": {},
     "output_type": "execute_result"
    }
   ],
   "source": [
    "student= {\"name\":\"riya\",\"class\":\"intermediate\"}\n",
    "print(student)\n",
    "type(student)"
   ]
  },
  {
   "cell_type": "code",
   "execution_count": 6,
   "metadata": {},
   "outputs": [
    {
     "name": "stdout",
     "output_type": "stream",
     "text": [
      "dict_keys(['name', 'class'])\n",
      "dict_values(['riya', 'intermediate'])\n"
     ]
    }
   ],
   "source": [
    "keys= student.keys()\n",
    "print(keys)\n",
    "value=student.values()\n",
    "print(value)"
   ]
  },
  {
   "cell_type": "code",
   "execution_count": 5,
   "metadata": {},
   "outputs": [
    {
     "data": {
      "text/plain": [
       "tuple"
      ]
     },
     "execution_count": 5,
     "metadata": {},
     "output_type": "execute_result"
    }
   ],
   "source": [
    "empty_tuple=()\n",
    "type(empty_tuple)"
   ]
  },
  {
   "cell_type": "markdown",
   "metadata": {},
   "source": [
    "#### dectionary "
   ]
  },
  {
   "cell_type": "code",
   "execution_count": 2,
   "metadata": {},
   "outputs": [
    {
     "name": "stdout",
     "output_type": "stream",
     "text": [
      "student1:{'name': 'riya', 'roll_no': 36}\n",
      "name:riya\n",
      "roll_no:36\n",
      "student2:{'name': 'panna', 'roll_no': 4}\n",
      "name:panna\n",
      "roll_no:4\n"
     ]
    }
   ],
   "source": [
    "student = {\"student1\":{\"name\":\"riya\",\"roll_no\":36},\n",
    "           \"student2\":{\"name\":\"panna\",\"roll_no\":4}}\n",
    "\n",
    "for skey,svalue in student.items():\n",
    "  print(f\"{skey}:{svalue}\")\n",
    "  for s2key,s2value in svalue.items():\n",
    "    print(f\"{s2key}:{s2value}\")"
   ]
  },
  {
   "cell_type": "code",
   "execution_count": 5,
   "metadata": {},
   "outputs": [
    {
     "name": "stdout",
     "output_type": "stream",
     "text": [
      "{1: 1, 2: 2, 3: 3, 4: 4}\n"
     ]
    }
   ],
   "source": [
    "### frequency of elements in list \n",
    "\n",
    "numbers = [1,2,2,3,3,3,4,4,4,4]\n",
    "frequency={}\n",
    "\n",
    "for number in numbers :\n",
    "    if number in frequency:\n",
    "        frequency[number] +=1\n",
    "    else :\n",
    "        frequency[number]=1\n",
    "\n",
    "print(frequency)"
   ]
  },
  {
   "cell_type": "markdown",
   "metadata": {},
   "source": [
    "### Functions\n"
   ]
  },
  {
   "cell_type": "code",
   "execution_count": 5,
   "metadata": {},
   "outputs": [
    {
     "data": {
      "text/plain": [
       "18.88888888888889"
      ]
     },
     "execution_count": 5,
     "metadata": {},
     "output_type": "execute_result"
    }
   ],
   "source": [
    "### convertion of tenpreater of fharenhite and celcius \n",
    "\n",
    "def convert_tem (tem,unit):\n",
    "    if unit == \"C\":\n",
    "        return tem * 9/5 + 32\n",
    "    elif unit == \"F\":\n",
    "        return (tem - 32) * 5/9\n",
    "    \n",
    "convert_tem (66,'F')"
   ]
  },
  {
   "cell_type": "code",
   "execution_count": 8,
   "metadata": {},
   "outputs": [
    {
     "data": {
      "text/plain": [
       "True"
      ]
     },
     "execution_count": 8,
     "metadata": {},
     "output_type": "execute_result"
    }
   ],
   "source": [
    "#### if it is strong pass or not \n",
    "\n",
    "def strong_pass (password):\n",
    "    if len(password)<8:\n",
    "        return False\n",
    "    if not any (char.isdigit() for char in password):\n",
    "        return False\n",
    "    if not any (char.islower() for char in password):\n",
    "        return  False\n",
    "    if not any (char.isupper() for char in password):\n",
    "        return False\n",
    "    if not any (char in '@ # $ % ^ & * ()' for char in password):\n",
    "        return False\n",
    "    return True\n",
    "\n",
    "strong_pass('Hurt2jkd@')"
   ]
  },
  {
   "cell_type": "code",
   "execution_count": 11,
   "metadata": {},
   "outputs": [
    {
     "name": "stdout",
     "output_type": "stream",
     "text": [
      "True\n",
      "False\n"
     ]
    }
   ],
   "source": [
    "### palandrom \n",
    "def palindrom (s):\n",
    " s = s.lower().replace(\" \",\"\")\n",
    " return s==s[::-1]\n",
    "\n",
    "print (palindrom(\"A man a plan a canal panama\"))\n",
    "print(palindrom(\"hello\"))"
   ]
  },
  {
   "cell_type": "code",
   "execution_count": 13,
   "metadata": {},
   "outputs": [
    {
     "data": {
      "text/plain": [
       "120"
      ]
     },
     "execution_count": 13,
     "metadata": {},
     "output_type": "execute_result"
    }
   ],
   "source": [
    "## factorial \n",
    "\n",
    "def give_factorial(n):\n",
    "    if n == 0: \n",
    "        return 1\n",
    "    else:\n",
    "        return n * give_factorial(n-1)\n",
    "    \n",
    "give_factorial(5)"
   ]
  },
  {
   "cell_type": "code",
   "execution_count": 14,
   "metadata": {},
   "outputs": [
    {
     "name": "stdout",
     "output_type": "stream",
     "text": [
      "{'hie': 1, 'there': 1, 'im': 1, 'riya': 1, 'minz': 2, '//nice': 1, 'to': 1, 'meet': 1, 'you': 3, 'riys': 1}\n"
     ]
    }
   ],
   "source": [
    "# function to Read a file and cound the word frequency\n",
    "\n",
    "def count_word_frequency(file_path):\n",
    "    word_count={}\n",
    "    with open (file_path,'r') as file:\n",
    "        for line in file:\n",
    "            words = line.split()\n",
    "            for word in words:\n",
    "                word= word.lower().strip('.,@#$')\n",
    "                word_count[word]=word_count.get(word,0)+1\n",
    "\n",
    "    return word_count\n",
    "\n",
    "filepath = 'simple.txt'\n",
    "word_frequency = count_word_frequency(filepath)\n",
    "print(word_frequency)"
   ]
  },
  {
   "cell_type": "code",
   "execution_count": 10,
   "metadata": {},
   "outputs": [
    {
     "ename": "NameError",
     "evalue": "name 're' is not defined",
     "output_type": "error",
     "traceback": [
      "\u001b[1;31m---------------------------------------------------------------------------\u001b[0m",
      "\u001b[1;31mNameError\u001b[0m                                 Traceback (most recent call last)",
      "Cell \u001b[1;32mIn[10], line 7\u001b[0m\n\u001b[0;32m      4\u001b[0m     pattern \u001b[38;5;241m=\u001b[39m \u001b[38;5;124mr\u001b[39m\u001b[38;5;124m'\u001b[39m\u001b[38;5;124m^[a-zA-Z0-9_.+]+@[a-zA-Z0-9]+\u001b[39m\u001b[38;5;124m\\\u001b[39m\u001b[38;5;124m.[a-zA-Z0-9]+$\u001b[39m\u001b[38;5;124m'\u001b[39m\n\u001b[0;32m      5\u001b[0m     \u001b[38;5;28;01mreturn\u001b[39;00m re\u001b[38;5;241m.\u001b[39mmatch(pattern,email) \u001b[38;5;129;01mis\u001b[39;00m \u001b[38;5;129;01mnot\u001b[39;00m \u001b[38;5;28;01mNone\u001b[39;00m\n\u001b[1;32m----> 7\u001b[0m \u001b[38;5;28mprint\u001b[39m(\u001b[43memail_check\u001b[49m\u001b[43m(\u001b[49m\u001b[38;5;124;43m\"\u001b[39;49m\u001b[38;5;124;43msona111@gmail.com\u001b[39;49m\u001b[38;5;124;43m\"\u001b[39;49m\u001b[43m)\u001b[49m)\n",
      "Cell \u001b[1;32mIn[10], line 5\u001b[0m, in \u001b[0;36memail_check\u001b[1;34m(email)\u001b[0m\n\u001b[0;32m      3\u001b[0m \u001b[38;5;28;01mdef\u001b[39;00m\u001b[38;5;250m \u001b[39m\u001b[38;5;21memail_check\u001b[39m(email):\n\u001b[0;32m      4\u001b[0m     pattern \u001b[38;5;241m=\u001b[39m \u001b[38;5;124mr\u001b[39m\u001b[38;5;124m'\u001b[39m\u001b[38;5;124m^[a-zA-Z0-9_.+]+@[a-zA-Z0-9]+\u001b[39m\u001b[38;5;124m\\\u001b[39m\u001b[38;5;124m.[a-zA-Z0-9]+$\u001b[39m\u001b[38;5;124m'\u001b[39m\n\u001b[1;32m----> 5\u001b[0m     \u001b[38;5;28;01mreturn\u001b[39;00m \u001b[43mre\u001b[49m\u001b[38;5;241m.\u001b[39mmatch(pattern,email) \u001b[38;5;129;01mis\u001b[39;00m \u001b[38;5;129;01mnot\u001b[39;00m \u001b[38;5;28;01mNone\u001b[39;00m\n",
      "\u001b[1;31mNameError\u001b[0m: name 're' is not defined"
     ]
    }
   ],
   "source": [
    "# check the email if it a valid email or not \n",
    "\n",
    "def email_check(email):\n",
    "    pattern = r'^[a-zA-Z0-9_.+]+@[a-zA-Z0-9]+\\.[a-zA-Z0-9]+$'\n",
    "    return re.match(pattern,email) is not None\n",
    "\n",
    "print(email_check(\"sona111@gmail.com\"))"
   ]
  },
  {
   "cell_type": "markdown",
   "metadata": {},
   "source": [
    "## Lamda funtion ,map and fillter \n"
   ]
  },
  {
   "cell_type": "code",
   "execution_count": 7,
   "metadata": {},
   "outputs": [
    {
     "data": {
      "text/plain": [
       "8"
      ]
     },
     "execution_count": 7,
     "metadata": {},
     "output_type": "execute_result"
    }
   ],
   "source": [
    "## Lamda\n",
    " \n",
    "# def addition (a,b):\n",
    "#     return a + b \n",
    "\n",
    "# addition(9,9)\n",
    "\n",
    "addition= lambda x , y : x+y\n",
    "addition(4,4)"
   ]
  },
  {
   "cell_type": "code",
   "execution_count": 9,
   "metadata": {},
   "outputs": [
    {
     "data": {
      "text/plain": [
       "True"
      ]
     },
     "execution_count": 9,
     "metadata": {},
     "output_type": "execute_result"
    }
   ],
   "source": [
    "# even \n",
    "even = lambda x:x%2==0\n",
    "even(4)"
   ]
  },
  {
   "cell_type": "code",
   "execution_count": 11,
   "metadata": {},
   "outputs": [
    {
     "data": {
      "text/plain": [
       "[4, 9, 16, 25, 36]"
      ]
     },
     "execution_count": 11,
     "metadata": {},
     "output_type": "execute_result"
    }
   ],
   "source": [
    "# map \n",
    "numbers1 = {2, 3, 4, 5, 6}\n",
    "list(map(lambda x:x**2,numbers1))"
   ]
  },
  {
   "cell_type": "code",
   "execution_count": 7,
   "metadata": {},
   "outputs": [
    {
     "data": {
      "text/plain": [
       "[2, 4, 6, 8]"
      ]
     },
     "execution_count": 7,
     "metadata": {},
     "output_type": "execute_result"
    }
   ],
   "source": [
    "# fillter \n",
    "def even (number):\n",
    "    if number%2==0:\n",
    "     return True\n",
    "numm = [1,2,3,4,5,6,7,8,9]\n",
    "list(filter(even,numm))"
   ]
  },
  {
   "cell_type": "code",
   "execution_count": 9,
   "metadata": {},
   "outputs": [
    {
     "data": {
      "text/plain": [
       "[6, 8, 22, 44]"
      ]
     },
     "execution_count": 9,
     "metadata": {},
     "output_type": "execute_result"
    }
   ],
   "source": [
    "# multiple condition in filter\n",
    "lst = [2,3,4,5,6,7,8,22,33,44,55]\n",
    "\n",
    "list(filter(lambda x:x%2==0 and x>5,lst))"
   ]
  },
  {
   "cell_type": "code",
   "execution_count": 14,
   "metadata": {},
   "outputs": [
    {
     "data": {
      "text/plain": [
       "[{'name': 'riya', 'roll_no': 36},\n",
       " {'name': 'riya', 'roll_no': 14},\n",
       " {'name': 'minz', 'roll_no': 24}]"
      ]
     },
     "execution_count": 14,
     "metadata": {},
     "output_type": "execute_result"
    }
   ],
   "source": [
    "# filting a dictionary\n",
    "student = [{\"name\":\"riya\",\"roll_no\":36},\n",
    "           {\"name\":\"palak\",\"roll_no\":4},\n",
    "           {\"name\":\"riya\",\"roll_no\":14},\n",
    "           {\"name\":\"minz\",\"roll_no\":24}]\n",
    "\n",
    "def get_a_name_10 (student):\n",
    "    return student['roll_no']>10\n",
    "\n",
    "list(filter(get_a_name_10,student))"
   ]
  },
  {
   "cell_type": "code",
   "execution_count": null,
   "metadata": {},
   "outputs": [],
   "source": []
  }
 ],
 "metadata": {
  "kernelspec": {
   "display_name": "Python 3",
   "language": "python",
   "name": "python3"
  },
  "language_info": {
   "codemirror_mode": {
    "name": "ipython",
    "version": 3
   },
   "file_extension": ".py",
   "mimetype": "text/x-python",
   "name": "python",
   "nbconvert_exporter": "python",
   "pygments_lexer": "ipython3",
   "version": "3.12.0"
  }
 },
 "nbformat": 4,
 "nbformat_minor": 2
}
