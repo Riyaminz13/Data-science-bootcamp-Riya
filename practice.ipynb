{
 "cells": [
  {
   "cell_type": "code",
   "execution_count": 13,
   "metadata": {},
   "outputs": [
    {
     "name": "stdout",
     "output_type": "stream",
     "text": [
      "* * * * * \n",
      "* * * * * \n",
      "* * * * * \n",
      "* * * * * \n",
      "* * * * * \n"
     ]
    }
   ],
   "source": [
    "# square of n side of matrix \n",
    "def Genrate_square(n):\n",
    "    genrate_square = []\n",
    "    for _ in range(n):\n",
    "     genrate_square.append('* '*n)\n",
    "    return genrate_square\n",
    "\n",
    "pattern = Genrate_square(5)\n",
    "for row in pattern:\n",
    "   print(row)\n",
    "# print(pattern)\n",
    "\n"
   ]
  },
  {
   "cell_type": "code",
   "execution_count": 12,
   "metadata": {},
   "outputs": [
    {
     "name": "stdout",
     "output_type": "stream",
     "text": [
      "* * * * * * * * * * \n",
      "*                 *\n",
      "*                 *\n",
      "*                 *\n",
      "*                 *\n",
      "*                 *\n",
      "*                 *\n",
      "*                 *\n",
      "*                 *\n",
      "* * * * * * * * * * \n"
     ]
    }
   ],
   "source": [
    "# hollow square of n side \n",
    "def Genrate_hollow_square(n):\n",
    "    generate_hollow_sqr =[]\n",
    "    for i in range(n):\n",
    "        if i== 0 or i == n-1: \n",
    "            generate_hollow_sqr.append('* ' *n)\n",
    "        else:\n",
    "            generate_hollow_sqr.append('* ' + '  ' *(n-2)+ '*')\n",
    "    return generate_hollow_sqr\n",
    "\n",
    "pat = Genrate_hollow_square(10)\n",
    "for row in pat:\n",
    "     print(row)"
   ]
  },
  {
   "cell_type": "code",
   "execution_count": 19,
   "metadata": {},
   "outputs": [
    {
     "name": "stdout",
     "output_type": "stream",
     "text": [
      "* * * * \n",
      "* * * * \n",
      "* * * * \n"
     ]
    }
   ],
   "source": [
    "def Genrate_rectange(n,m):\n",
    "    generate_rec = []\n",
    "    for i in range(n):\n",
    "        generate_rec.append('* '*m)\n",
    "    return generate_rec\n",
    "\n",
    "n = 3 \n",
    "m = 4\n",
    "pattern = Genrate_rectange(3,4)\n",
    "for row in pattern:\n",
    "    print(row)"
   ]
  },
  {
   "cell_type": "code",
   "execution_count": 24,
   "metadata": {},
   "outputs": [
    {
     "name": "stdout",
     "output_type": "stream",
     "text": [
      "*\n",
      "**\n",
      "***\n",
      "****\n",
      "*****\n"
     ]
    }
   ],
   "source": [
    "# right angle triangle \n",
    "\n",
    "def generate_triangle(n):\n",
    "    gen_tri = []\n",
    "    for i in range(n):\n",
    "        gen_tri.append('*' *(i+1))\n",
    "    return gen_tri\n",
    "\n",
    "pattern = generate_triangle(5)\n",
    "for row in pattern:\n",
    "    print(row)"
   ]
  },
  {
   "cell_type": "code",
   "execution_count": 15,
   "metadata": {},
   "outputs": [
    {
     "name": "stdout",
     "output_type": "stream",
     "text": [
      "    *\n",
      "   ***\n",
      "  *****\n",
      " *******\n",
      "*********\n"
     ]
    }
   ],
   "source": [
    "def generate_pyramid(n):\n",
    "    \n",
    "    # Your code here\n",
    "    generate_pyr = []\n",
    "    for i in range(n):\n",
    "        generate_pyr.append(' '*(n-i-1)+ '*' *(2*i+1))\n",
    "    return generate_pyr\n",
    "    \n",
    "pattern = generate_pyramid(5)\n",
    "for row in pattern:\n",
    "    print(row)"
   ]
  },
  {
   "cell_type": "code",
   "execution_count": 25,
   "metadata": {},
   "outputs": [
    {
     "name": "stdout",
     "output_type": "stream",
     "text": [
      "*********\n",
      " ******* \n",
      "  *****  \n",
      "   ***   \n",
      "    *    \n"
     ]
    }
   ],
   "source": [
    "def generate_inverted_pyramid(n):\n",
    "\n",
    "    \n",
    "    # Your code here\n",
    "    genrate_inv_pyra = []\n",
    "    for i in range(n):\n",
    "        genrate_inv_pyra.append(' '*i + '*' * (2*(n-i)-1) + ' ' * i)\n",
    "    return genrate_inv_pyra\n",
    "    \n",
    "pattern = generate_inverted_pyramid(5)\n",
    "for row in pattern:\n",
    "  print(row)"
   ]
  },
  {
   "cell_type": "code",
   "execution_count": 30,
   "metadata": {},
   "outputs": [
    {
     "name": "stdout",
     "output_type": "stream",
     "text": [
      "1\n",
      "22\n",
      "333\n",
      "4444\n",
      "55555\n"
     ]
    }
   ],
   "source": [
    "def generate_number_triangle(n):\n",
    "    \"\"\"\n",
    "    Function to return a right-angled triangle of repeated numbers of side n as a list of strings.\n",
    "    \n",
    "    Parameters:\n",
    "    n (int): The height of the triangle.\n",
    "    \n",
    "    Returns:\n",
    "    list: A list of strings where each string represents a row of the triangle.\n",
    "    \"\"\"\n",
    "    # Your code here\n",
    "    gen_right_ang_num = []\n",
    "    for i in range(1,n+1):\n",
    "        gen_right_ang_num.append(str(i)*i)\n",
    "    return gen_right_ang_num\n",
    "    \n",
    "pattern = generate_number_triangle(5)\n",
    "for row in pattern:\n",
    "    print(row)"
   ]
  },
  {
   "cell_type": "code",
   "execution_count": 47,
   "metadata": {},
   "outputs": [
    {
     "name": "stdout",
     "output_type": "stream",
     "text": [
      "1\n",
      "2 3\n",
      "4 5 6\n",
      "7 8 9 10\n",
      "11 12 13 14 15\n"
     ]
    }
   ],
   "source": [
    "def generate_floyds_triangle(n):\n",
    "     gen_flo_tri = []\n",
    "     num = 1 \n",
    "     for i in range(1, n +1):\n",
    "        gen_flo_tri.append(\" \".join(str(num + j) for j in range(i)))\n",
    "        num += i\n",
    "     \n",
    "     return gen_flo_tri\n",
    "    \n",
    "pattern = generate_floyds_triangle(5)\n",
    "for row in pattern:\n",
    "    print(row)"
   ]
  },
  {
   "cell_type": "code",
   "execution_count": 27,
   "metadata": {},
   "outputs": [
    {
     "name": "stdout",
     "output_type": "stream",
     "text": [
      "  * \n",
      " ***\n",
      "*****\n",
      "*****\n",
      " ***\n",
      "  * \n"
     ]
    }
   ],
   "source": [
    "def Genrate_diamond(n):\n",
    "    gen_dim = []\n",
    "    for i in range(n):\n",
    "        gen_dim.append(' '*((n-1)-i) + '*'* ((i*2)+1)+ ' '*(n-2-i))\n",
    "    for i in range(n-1,-1,-1):\n",
    "        gen_dim.append(' '*((n-1)-i) + '*'* ((i*2)+1)+ ' '*(n-2-i))\n",
    "\n",
    "\n",
    "    return gen_dim\n",
    "pattern= Genrate_diamond(3)\n",
    "for row in pattern:\n",
    "    print(row)"
   ]
  },
  {
   "cell_type": "code",
   "execution_count": 8,
   "metadata": {},
   "outputs": [
    {
     "name": "stdout",
     "output_type": "stream",
     "text": [
      "    *\n",
      "   **\n",
      "  ***\n",
      " ****\n",
      "*****\n"
     ]
    }
   ],
   "source": [
    "# right angled tringanle \n",
    "def genrate_right_angletrianle(n):\n",
    "     gen_right_angtri = []\n",
    "     for i in range(1,n+1):\n",
    "          gen_right_angtri.append(' '*(n-i)+ '*'*i)\n",
    "     return gen_right_angtri\n",
    "     \n",
    "pattern = genrate_right_angletrianle(5)\n",
    "for row in pattern:\n",
    "     print(row)"
   ]
  },
  {
   "cell_type": "code",
   "execution_count": null,
   "metadata": {},
   "outputs": [
    {
     "name": "stdout",
     "output_type": "stream",
     "text": [
      "*********\n",
      " ******* \n",
      "  *****  \n",
      "   ***   \n",
      "    *    \n",
      "   ***   \n",
      "  *****  \n",
      " ******* \n",
      "*********\n"
     ]
    }
   ],
   "source": [
    "# sandscap pattern \n",
    "def genrate1_sandscap(n):\n",
    "    gen_sandscap = []\n",
    "    for i in range(n):\n",
    "        gen_sandscap.append(' '*i + '*' * (2*(n-i)-1) + ' ' * i)\n",
    "    for i in range(n-2,-1,-1):\n",
    "        gen_sandscap.append(' '*i + '*' * (2*(n-i)-1) + ' '* i)\n",
    "    return gen_sandscap\n",
    "\n",
    "pattern = genrate1_sandscap(5)\n",
    "for row in pattern:\n",
    "    print(row)"
   ]
  },
  {
   "cell_type": "code",
   "execution_count": 24,
   "metadata": {},
   "outputs": [
    {
     "name": "stdout",
     "output_type": "stream",
     "text": [
      "*\n",
      "**\n",
      "* *\n",
      "****\n"
     ]
    }
   ],
   "source": [
    "# hollow right angled triangle \n",
    "def genrate_hollow_right_angled_tringangle(n):\n",
    "    if n ==1:\n",
    "        return ['*']\n",
    "    gen_rg_ang_tri = ['*']\n",
    "    for i in range (1,n-1):\n",
    "        gen_rg_ang_tri.append('*' + ' '*(i-1) + '*')\n",
    "    gen_rg_ang_tri.append('*'*n)\n",
    "    return gen_rg_ang_tri\n",
    "n = 4\n",
    "pattern = genrate_hollow_right_angled_tringangle(n)\n",
    "for row in pattern:\n",
    "    print(row)"
   ]
  },
  {
   "cell_type": "code",
   "execution_count": 43,
   "metadata": {},
   "outputs": [
    {
     "name": "stdout",
     "output_type": "stream",
     "text": [
      "*****\n",
      "*  *\n",
      "* *\n",
      "**\n",
      "*\n"
     ]
    }
   ],
   "source": [
    "# hollow inverted right angled triangle \n",
    "def genrate_inverted_right_angled_triangled(n):\n",
    "    gen_inv_hol_rgtri= []\n",
    "    gen_inv_hol_rgtri.append('*'*n)\n",
    "    for i in range(n-3,-1,-1):\n",
    "        gen_inv_hol_rgtri.append('*' + ' '*(i) + '*')\n",
    "    if i == 0:\n",
    "        gen_inv_hol_rgtri.append('*')\n",
    "    return gen_inv_hol_rgtri\n",
    "n = 5\n",
    "pattern = genrate_inverted_right_angled_triangled(n)\n",
    "for row in pattern:\n",
    "    print(row)"
   ]
  },
  {
   "cell_type": "code",
   "execution_count": 2,
   "metadata": {},
   "outputs": [
    {
     "name": "stdout",
     "output_type": "stream",
     "text": [
      "    1\n",
      "   1 2\n",
      "  1 2 3\n",
      " 1 2 3 4\n",
      "1 2 3 4 5\n"
     ]
    }
   ],
   "source": [
    "def genrate_numbered_pyramid (n):\n",
    "    gen_num_pymd =[]\n",
    "    for i in range (1,n+1):\n",
    "        gen_num_pymd.append(' '*(n-i) + ' '.join(str(j) for j in range(1, i+1)) )\n",
    "    return gen_num_pymd\n",
    "\n",
    "pattern = genrate_numbered_pyramid(5)\n",
    "for row in pattern:\n",
    "    print(row)"
   ]
  },
  {
   "cell_type": "code",
   "execution_count": null,
   "metadata": {},
   "outputs": [
    {
     "name": "stdout",
     "output_type": "stream",
     "text": [
      "77.0\n"
     ]
    }
   ],
   "source": [
    "# celsius_to_fahrenheit \n",
    "\n",
    "def celsius_to_fahrenheit(C):\n",
    "    f = (9/5 * int(C)) + 32\n",
    "    return f\n",
    "\n",
    "C = input(\"enter Celsius: \")\n",
    "fahrenheit = celsius_to_fahrenheit(C)\n",
    "print (fahrenheit)\n"
   ]
  },
  {
   "cell_type": "code",
   "execution_count": 7,
   "metadata": {},
   "outputs": [
    {
     "name": "stdout",
     "output_type": "stream",
     "text": [
      "15\n"
     ]
    }
   ],
   "source": [
    "# area of a rectange\n",
    "\n",
    "def Area_of_Rectangle(lenght,breath):\n",
    "    area = int(lenght) * int(breath)\n",
    "    return (area)\n",
    "\n",
    "lenght = input(\"enter lenght: \")\n",
    "breath = input(\"enter breath: \")\n",
    "area = Area_of_Rectangle(lenght,breath)\n",
    "print(area)"
   ]
  },
  {
   "cell_type": "code",
   "execution_count": 8,
   "metadata": {},
   "outputs": [
    {
     "name": "stdout",
     "output_type": "stream",
     "text": [
      "120\n"
     ]
    }
   ],
   "source": [
    "# calculate distance covered by a vehical \n",
    "def calculate_distance(speed, time):\n",
    "    distance = int(speed) * int(time)\n",
    "    return distance\n",
    "\n",
    "speed = input(\"speed: \")\n",
    "time = input (\"time: \")\n",
    "distance = calculate_distance(speed, time)\n",
    "print(distance)"
   ]
  },
  {
   "cell_type": "code",
   "execution_count": 15,
   "metadata": {},
   "outputs": [
    {
     "name": "stdout",
     "output_type": "stream",
     "text": [
      "3\n"
     ]
    }
   ],
   "source": [
    "# calculate_lift_rounds\n",
    "def calculate_lift_rounds(n, capacity):\n",
    "    r = int(n)/ int(capacity)\n",
    "    rim = int(n)%int(capacity)\n",
    "    if rim !=0:\n",
    "        r+=1\n",
    "    return int(r)\n",
    "n = input(\"how many people: \")\n",
    "capacity = input(\"capacity: \")\n",
    "capa = calculate_lift_rounds(n, capacity)\n",
    "print(capa)"
   ]
  },
  {
   "cell_type": "code",
   "execution_count": 7,
   "metadata": {},
   "outputs": [
    {
     "name": "stdout",
     "output_type": "stream",
     "text": [
      "line euation: 11.0\n"
     ]
    }
   ],
   "source": [
    "# line equation \n",
    "# m = slop\n",
    "# b= intercept \n",
    "# x = x coordinate \n",
    "def Line_Equation(m,b,x):\n",
    "    y = (float(m)*float(x)) + float(b)\n",
    "    return y\n",
    "\n",
    "m = input(\"enter slop\")\n",
    "b = input(\"enter intercept\")\n",
    "x = input(\"enter x\")\n",
    "line_equ = Line_Equation(m,b,x)\n",
    "print(\"line euation: \"+ str(line_equ))"
   ]
  },
  {
   "cell_type": "code",
   "execution_count": 22,
   "metadata": {},
   "outputs": [
    {
     "name": "stdout",
     "output_type": "stream",
     "text": [
      "61\n"
     ]
    }
   ],
   "source": [
    "# sum of list\n",
    "def Sum_list(number):\n",
    "    if number is None:\n",
    "        number = []\n",
    "    add = 0\n",
    "    for i in range(len(number)):\n",
    "        add +=number[i]\n",
    "    return add\n",
    "\n",
    "number = [1,54,6]\n",
    "addition =  Sum_list(number)\n",
    "print(addition)\n"
   ]
  },
  {
   "cell_type": "code",
   "execution_count": 6,
   "metadata": {},
   "outputs": [
    {
     "name": "stdout",
     "output_type": "stream",
     "text": [
      "10\n"
     ]
    }
   ],
   "source": [
    "# largest number in the list \n",
    "\n",
    "def Largest_number(number):\n",
    "    max_value = 0\n",
    "    if number is None:\n",
    "        return max_value\n",
    "    for i in range(len(number)):\n",
    "         if number[i] > max_value:\n",
    "             max_value = number[i]\n",
    "    return max_value\n",
    "number = [3, 8, 2, 10,5]\n",
    "maximum = Largest_number(number)\n",
    "print(maximum)\n"
   ]
  },
  {
   "cell_type": "code",
   "execution_count": null,
   "metadata": {},
   "outputs": [],
   "source": []
  },
  {
   "cell_type": "code",
   "execution_count": 13,
   "metadata": {},
   "outputs": [
    {
     "name": "stdout",
     "output_type": "stream",
     "text": [
      "[1, 2, 3, 4, 5]\n"
     ]
    }
   ],
   "source": [
    "# remove duplicate values from list \n",
    "def remove_duplicates(lst):\n",
    "    # unique = set(lst)\n",
    "    # unique_lst = list(unique)\n",
    "    # return unique_lst\n",
    "    unique_lst = []\n",
    "    for item in lst:\n",
    "        if item not in unique_lst:\n",
    "            unique_lst.append(item)\n",
    "    return unique_lst\n",
    "lst = [1, 2, 2, 3, 4, 4, 5]\n",
    "unique_values = remove_duplicates(lst)\n",
    "print(unique_values)"
   ]
  },
  {
   "cell_type": "code",
   "execution_count": 15,
   "metadata": {},
   "outputs": [
    {
     "name": "stdout",
     "output_type": "stream",
     "text": [
      "False\n"
     ]
    }
   ],
   "source": [
    "# check if all items are unique in the list \n",
    "def check_unique(lst):\n",
    "    unique_lst = []\n",
    "    for item in lst:\n",
    "        if item not in unique_lst:\n",
    "            unique_lst.append(item)\n",
    "    if lst == unique_lst:\n",
    "        return True\n",
    "    else:\n",
    "        return False\n",
    "lst = [1, 2, 3, 3, 4, 5]\n",
    "is_unique = check_unique(lst)\n",
    "print(is_unique)"
   ]
  },
  {
   "cell_type": "code",
   "execution_count": 16,
   "metadata": {},
   "outputs": [
    {
     "name": "stdout",
     "output_type": "stream",
     "text": [
      "[5, 4, 3, 2, 1]\n"
     ]
    }
   ],
   "source": [
    "# reverse list \n",
    "def reverse_list(lst):\n",
    "    rev_lst = lst[::-1]\n",
    "    return rev_lst\n",
    "lst = [1, 2, 3, 4, 5]\n",
    "reverse = reverse_list(lst)\n",
    "print(reverse)"
   ]
  },
  {
   "cell_type": "code",
   "execution_count": 24,
   "metadata": {},
   "outputs": [
    {
     "name": "stdout",
     "output_type": "stream",
     "text": [
      "(3, 3)\n"
     ]
    }
   ],
   "source": [
    "# count even and odd in the lst \n",
    "def count_even_odd(lst):\n",
    "    even = 0\n",
    "    odd = 0\n",
    "    for i in range(len(lst)):\n",
    "        if lst[i] % 2 == 0:\n",
    "            even +=1\n",
    "        else:\n",
    "            odd += 1\n",
    "    return (even,odd)\n",
    "lst = [1, 2, 3, 4,5,6]\n",
    "count = count_even_odd(lst)\n",
    "print(count)"
   ]
  },
  {
   "cell_type": "code",
   "execution_count": 29,
   "metadata": {},
   "outputs": [
    {
     "name": "stdout",
     "output_type": "stream",
     "text": [
      "7\n"
     ]
    }
   ],
   "source": [
    "# max consecutive diffrence \n",
    "def max_consecutive_difference(lst):\n",
    "    max_value = -1\n",
    "    for i in range(len(lst)-1):\n",
    "        sub = abs(lst[i] - lst[i + 1])\n",
    "        if max_value < sub:\n",
    "            max_value = sub \n",
    "    return max_value\n",
    "lst = [1, 7, 3, 10, 5] \n",
    "maximum = max_consecutive_difference(lst)\n",
    "print(maximum)"
   ]
  },
  {
   "cell_type": "code",
   "execution_count": 20,
   "metadata": {},
   "outputs": [
    {
     "name": "stdout",
     "output_type": "stream",
     "text": [
      "[1, 2, 3, 4, 5, 6]\n"
     ]
    }
   ],
   "source": [
    "# merge two sorted list \n",
    "def merge_two_sorted_lists(list1, list2):\n",
    "    # from itertools import zip_longest\n",
    "    lst = []\n",
    "    for a,b in zip(list1,list2):\n",
    "        lst.append(a)\n",
    "        lst.append(b)\n",
    "    lst.sort()\n",
    "    return lst\n",
    "list1 = [1, 3, 5]\n",
    "list2 = [2, 4, 6]\n",
    "merge = merge_two_sorted_lists(list1, list2)\n",
    "print(merge)"
   ]
  },
  {
   "cell_type": "code",
   "execution_count": 23,
   "metadata": {},
   "outputs": [
    {
     "name": "stdout",
     "output_type": "stream",
     "text": [
      "[1, 2, 3, 4, 5, 6]\n"
     ]
    }
   ],
   "source": [
    "# 2nd method \n",
    "def merge_two_sorted_lists(list1, list2):\n",
    "    lst = []\n",
    "    for a,b in zip(list1, list2):\n",
    "        if a < b:\n",
    "            lst.append(a)\n",
    "            lst.append(b)\n",
    "        else:\n",
    "            lst.append(b)\n",
    "            lst.append(a)\n",
    "    return lst\n",
    "list1 = [1, 3, 5]\n",
    "list2 = [2, 4, 6]\n",
    "merge = merge_two_sorted_lists(list1, list2)\n",
    "print(merge)"
   ]
  },
  {
   "cell_type": "code",
   "execution_count": 27,
   "metadata": {},
   "outputs": [
    {
     "name": "stdout",
     "output_type": "stream",
     "text": [
      "[1, 2, 3, 4, 5, 6]\n"
     ]
    }
   ],
   "source": [
    "# 3rd method\n",
    "def merge_two_sorted_lists(list1, list2):\n",
    "    lst =[]\n",
    "    i = 0\n",
    "    j = 0\n",
    "    while i < len(list1) and j < len(list2):\n",
    "        if list1[i] < list2[j]:\n",
    "            lst.append(list1[i])\n",
    "            i+=1\n",
    "        else:\n",
    "            lst.append(list2[j])\n",
    "            j+=1\n",
    "\n",
    "    lst.extend(list1[i: ])\n",
    "    lst.extend(list2[j: ])\n",
    "    return lst\n",
    "list1 = [1, 3, 5]\n",
    "list2 = [2, 4, 6]\n",
    "merge = merge_two_sorted_lists(list1, list2)\n",
    "print(merge)\n"
   ]
  },
  {
   "cell_type": "code",
   "execution_count": 1,
   "metadata": {},
   "outputs": [
    {
     "name": "stdout",
     "output_type": "stream",
     "text": [
      "[4, 5, 1, 2, 3]\n"
     ]
    }
   ],
   "source": [
    "def rotate_list(lst, k):\n",
    "    list1 = []\n",
    "    list2= []\n",
    "    for i in range(len(lst)):\n",
    "       if i <= k:\n",
    "         list2.append(lst[i])\n",
    "       else:\n",
    "          list1.append(lst[i])\n",
    "    final = list1 +list2\n",
    "    return final\n",
    "lst = [1, 2, 3, 4, 5]\n",
    "k = 2\n",
    "rotate = rotate_list(lst, k)\n",
    "print(rotate)"
   ]
  },
  {
   "cell_type": "code",
   "execution_count": 7,
   "metadata": {},
   "outputs": [
    {
     "name": "stdout",
     "output_type": "stream",
     "text": [
      "[]\n"
     ]
    }
   ],
   "source": [
    "def rotate_list(lst, k):\n",
    "    if not lst:\n",
    "        return lst\n",
    "    n = len(lst)\n",
    "    k = k % n\n",
    "\n",
    "    for i in range (k):\n",
    "        last_element = lst.pop()\n",
    "        lst.insert(0,last_element)\n",
    "    return lst\n",
    "lst = []\n",
    "k = 2\n",
    "rotate = rotate_list(lst, k)\n",
    "print(rotate)\n"
   ]
  },
  {
   "cell_type": "code",
   "execution_count": 4,
   "metadata": {},
   "outputs": [
    {
     "name": "stdout",
     "output_type": "stream",
     "text": [
      "2\n"
     ]
    }
   ],
   "source": [
    "k = 2\n",
    "k = 2 % 4\n",
    "print(k)"
   ]
  },
  {
   "cell_type": "code",
   "execution_count": null,
   "metadata": {},
   "outputs": [
    {
     "name": "stdout",
     "output_type": "stream",
     "text": [
      "False\n"
     ]
    }
   ],
   "source": [
    "# merging dictionaries \n",
    "from itertools import zip_longest\n",
    "def merge_lists_to_dictionary(keys, values):\n",
    "    if (len(keys)==len(values)):\n",
    "        final = dict(zip_longest(keys,values,fillvalue=None))\n",
    "        return final\n",
    "    else:\n",
    "        return False\n",
    "      \n",
    "keys = ['a', 'b', 'c','d']\n",
    "values = [1, 2, 3]\n",
    "f = merge_lists_to_dictionary(keys, values)\n",
    "print (f)\n"
   ]
  },
  {
   "cell_type": "code",
   "execution_count": 12,
   "metadata": {},
   "outputs": [
    {
     "name": "stdout",
     "output_type": "stream",
     "text": [
      "{'a': 1, 'b': 2, 'c': 3, 'd': 4, 'e': 5, 'f': 6}\n"
     ]
    }
   ],
   "source": [
    "# merging multiple dictionaries \n",
    "from itertools import zip_longest\n",
    "def merge_three_dictionaries(dict1, dict2, dict3):\n",
    "   dict1.update(dict2)\n",
    "   dict1.update(dict3)\n",
    "   return dict1\n",
    "dict1={'a': 1, 'b': 2} \n",
    "dict2={'c': 3, 'd': 4}\n",
    "dict3={'e': 5, 'f': 6}\n",
    "f = merge_three_dictionaries(dict1, dict2, dict3)\n",
    "print (f)\n"
   ]
  },
  {
   "cell_type": "code",
   "execution_count": 1,
   "metadata": {},
   "outputs": [
    {
     "name": "stdout",
     "output_type": "stream",
     "text": [
      "{'hello': 2, 'world': 1}\n"
     ]
    }
   ],
   "source": [
    "# word frequency \n",
    "def count_word_frequency(sentence):\n",
    "    words = sentence.lower().split()\n",
    "    word_count = {}\n",
    "    for word in words:\n",
    "        word_count[word]=word_count.get(word,0)+1\n",
    "    return word_count\n",
    "sentence = \"hello world hello\"\n",
    "print(count_word_frequency(sentence))"
   ]
  },
  {
   "cell_type": "code",
   "execution_count": 6,
   "metadata": {},
   "outputs": [],
   "source": [
    "# check palindrom tuple \n",
    "def is_palindromic_tuple(tup):\n",
    "    return tup == tup[::-1]\n",
    "    \n",
    "    tup = (1, 2, 3, 2, 1)\n",
    "    print(is_palindromic_tuple(tup))"
   ]
  },
  {
   "cell_type": "code",
   "execution_count": 1,
   "metadata": {},
   "outputs": [
    {
     "name": "stdout",
     "output_type": "stream",
     "text": [
      "{'a': 1, 'b': 5, 'c': 9, 'd': 6}\n"
     ]
    }
   ],
   "source": [
    "# merge multiple dictioneries with same key value \n",
    "def merge_dicts_with_overlapping_keys(dicts):\n",
    "    final_dic={}\n",
    "    for d in dicts:\n",
    "        for keys, values in d.items():\n",
    "            final_dic[keys] = final_dic.get(keys,0)+values\n",
    "    return final_dic\n",
    "dicts= [{'a': 1, 'b': 2}, {'b': 3, 'c': 4}, {'c': 5, 'd': 6}]\n",
    "print(merge_dicts_with_overlapping_keys(dicts))"
   ]
  },
  {
   "cell_type": "code",
   "execution_count": 2,
   "metadata": {},
   "outputs": [
    {
     "name": "stdout",
     "output_type": "stream",
     "text": [
      "True\n"
     ]
    }
   ],
   "source": [
    "# list subset \n",
    "def is_subset(lst1, lst2):\n",
    "    return set(lst1).issubset(set(lst2))\n",
    "lst1 = [1, 2, 3]\n",
    "lst2 = [1, 2, 3, 4, 5]\n",
    "print(is_subset(lst1, lst2))"
   ]
  },
  {
   "cell_type": "code",
   "execution_count": 4,
   "metadata": {},
   "outputs": [
    {
     "name": "stdout",
     "output_type": "stream",
     "text": [
      "12\n"
     ]
    }
   ],
   "source": [
    "# sum of n even intergers \n",
    "def sum_of_even_numbers(n):\n",
    "    # return n *(n+1)\n",
    "    sum = 0\n",
    "    for i in range(1,n+1):\n",
    "        sum += 2*i\n",
    "    return sum\n",
    "n = 3\n",
    "print(sum_of_even_numbers(n))"
   ]
  },
  {
   "cell_type": "code",
   "execution_count": null,
   "metadata": {},
   "outputs": [
    {
     "name": "stdout",
     "output_type": "stream",
     "text": [
      "False\n"
     ]
    }
   ],
   "source": [
    "# prime number \n",
    "def is_prime(n):\n",
    "    count = 0\n",
    "    for i in range(1,n):\n",
    "        if (n%i == 0):\n",
    "            count += 1\n",
    "    if (count == 1):\n",
    "        return True\n",
    "    else:\n",
    "        return False\n",
    "n = 5\n",
    "print(is_prime(n))"
   ]
  },
  {
   "cell_type": "code",
   "execution_count": null,
   "metadata": {},
   "outputs": [
    {
     "name": "stdout",
     "output_type": "stream",
     "text": [
      "False\n"
     ]
    }
   ],
   "source": [
    "import math\n",
    "def is_perfect_square(num):\n",
    "    if num <= 1:\n",
    "        return False\n",
    "    squar_root = int(math.sqrt(num))\n",
    "    if squar_root * squar_root == num:\n",
    "        return True\n",
    "    else:\n",
    "          return False\n",
    "num = 16\n",
    "print(is_perfect_square(num))"
   ]
  },
  {
   "cell_type": "code",
   "execution_count": null,
   "metadata": {},
   "outputs": [
    {
     "name": "stdout",
     "output_type": "stream",
     "text": [
      "101\n"
     ]
    }
   ],
   "source": [
    "# integer to binary method 1 using bin funtion \n",
    "def int_to_binary(n):\n",
    "    if n >= 0:\n",
    "        binary_number = bin(n)[2:]\n",
    "        return binary_number\n",
    "    else:\n",
    "        binary_number = bin((1 << 8)+n)[2:]\n",
    "        return binary_number\n",
    "n = 5\n",
    "print(int_to_binary(n))"
   ]
  },
  {
   "cell_type": "code",
   "execution_count": 21,
   "metadata": {},
   "outputs": [
    {
     "name": "stdout",
     "output_type": "stream",
     "text": [
      "101 \n"
     ]
    }
   ],
   "source": [
    "# method 2 without using bin \n",
    "def int_to_binary(n):\n",
    "    binary_str = \" \"\n",
    "    if n == 0:\n",
    "        return 0\n",
    "    is_negative= n < 0\n",
    "    n = abs(n)\n",
    "    while n > 0:\n",
    "        binary_str= str(n % 2)+ binary_str\n",
    "        n //= 2\n",
    "    return \"-\" + binary_str if is_negative > 0 else binary_str\n",
    "n = 5\n",
    "print(int_to_binary(n))"
   ]
  },
  {
   "cell_type": "code",
   "execution_count": 4,
   "metadata": {},
   "outputs": [
    {
     "name": "stdout",
     "output_type": "stream",
     "text": [
      "5\n"
     ]
    }
   ],
   "source": [
    "# binary to deimal \n",
    "def bin_to_dec(n):\n",
    "    n = str(n)\n",
    "    decimal_num = 0\n",
    "    for i in range (len(n)):\n",
    "        bits = int (n[-(i + 1)])\n",
    "        decimal_num += bits *(2 ** i)\n",
    "    return decimal_num\n",
    "n = 101\n",
    "binary_to_dec = bin_to_dec(n)\n",
    "print(binary_to_dec)"
   ]
  },
  {
   "cell_type": "code",
   "execution_count": 8,
   "metadata": {},
   "outputs": [
    {
     "name": "stdout",
     "output_type": "stream",
     "text": [
      "6\n"
     ]
    }
   ],
   "source": [
    "# GCD of two numbers /\n",
    "def gcd(n, m):\n",
    "    GCD = 1\n",
    "    for i in range (1 , min (n,m)+ 1):\n",
    "        if n % i == 0 and m % i == 0:\n",
    "            GCD = i\n",
    "    return GCD\n",
    "n = 48 \n",
    "m = 18\n",
    "print(gcd(n, m))"
   ]
  },
  {
   "cell_type": "code",
   "execution_count": 2,
   "metadata": {},
   "outputs": [
    {
     "name": "stdout",
     "output_type": "stream",
     "text": [
      "olleh\n"
     ]
    }
   ],
   "source": [
    "# revers the string \n",
    "def reverse_string(s):\n",
    "    rev_str = s[::-1]\n",
    "    return rev_str\n",
    "s =  \"hello\"\n",
    "print(reverse_string(s))"
   ]
  },
  {
   "cell_type": "code",
   "execution_count": 6,
   "metadata": {},
   "outputs": [
    {
     "name": "stdout",
     "output_type": "stream",
     "text": [
      "3\n"
     ]
    }
   ],
   "source": [
    "# count vowels of the string \n",
    "def count_vowels(s):\n",
    "    countt = 0\n",
    "    s_lower = s.lower()\n",
    "    for char in s_lower :\n",
    "        if char in \"aeiou\":\n",
    "            countt += 1\n",
    "    return countt\n",
    "s = \"Hello, World!\"\n",
    "print(count_vowels(s))"
   ]
  },
  {
   "cell_type": "code",
   "execution_count": 8,
   "metadata": {},
   "outputs": [
    {
     "name": "stdout",
     "output_type": "stream",
     "text": [
      "True\n"
     ]
    }
   ],
   "source": [
    "def are_equal_strings(s, t):\n",
    "    rev_s = s[::-1]\n",
    "    if s == t:\n",
    "        return True\n",
    "    else:\n",
    "        return False\n",
    "    # print(s is t)\n",
    "s = \"hello\" \n",
    "t = \"hello\"\n",
    "print(are_equal_strings(s,t))"
   ]
  },
  {
   "cell_type": "code",
   "execution_count": null,
   "metadata": {},
   "outputs": [
    {
     "name": "stdout",
     "output_type": "stream",
     "text": [
      "True\n"
     ]
    }
   ],
   "source": [
    "def is_palindrome(s):\n",
    "    no_space = s.replace(\" \",\"\")\n",
    "    s_lower = no_space.lower()\n",
    "    rev_s = s_lower[::-1]\n",
    "    if s_lower == rev_s:\n",
    "        return True\n",
    "    else:\n",
    "        return False\n",
    "s = \"A man a plan a canal Panama\"\n",
    "print(is_palindrome(s))"
   ]
  },
  {
   "cell_type": "code",
   "execution_count": null,
   "metadata": {},
   "outputs": [
    {
     "name": "stdout",
     "output_type": "stream",
     "text": [
      "2\n"
     ]
    }
   ],
   "source": [
    "def count_words(s):\n",
    "    word = s.split()\n",
    "    return len(word)\n",
    "s = \"Hello, World!\"\n",
    "print(count_words(s))"
   ]
  },
  {
   "cell_type": "code",
   "execution_count": 16,
   "metadata": {},
   "outputs": [
    {
     "name": "stdout",
     "output_type": "stream",
     "text": [
      "progamin\n"
     ]
    }
   ],
   "source": [
    "def remove_duplicates(s):\n",
    "    new_s = \"\"\n",
    "    for char in s:\n",
    "        if char not in new_s:\n",
    "            new_s += char\n",
    "    return new_s\n",
    "s = \"programming\"\n",
    "print(remove_duplicates(s))"
   ]
  },
  {
   "cell_type": "code",
   "execution_count": 26,
   "metadata": {},
   "outputs": [
    {
     "name": "stdout",
     "output_type": "stream",
     "text": [
      "7\n"
     ]
    }
   ],
   "source": [
    "def count_consonant(s):\n",
    "    consonant = \"qwrtypsdfhjklmnbvcxz\"\n",
    "    count_c = 0\n",
    "    for char in s.lower():\n",
    "        if char in consonant:\n",
    "            count_c += 1\n",
    "    return count_c\n",
    "s = \"Hello, World!\"\n",
    "print(count_consonant(s))"
   ]
  },
  {
   "cell_type": "code",
   "execution_count": null,
   "metadata": {},
   "outputs": [
    {
     "name": "stdout",
     "output_type": "stream",
     "text": [
      "False\n"
     ]
    }
   ],
   "source": [
    "# check anagram \n",
    "def is_anagram(s, t):\n",
    "    if sorted(s)== sorted(t):\n",
    "        return True\n",
    "    else:\n",
    "        return False\n",
    "s = \"anagarm\"\n",
    "t = \"nagaram\"\n",
    "print (is_anagram(s, t))\n"
   ]
  },
  {
   "cell_type": "code",
   "execution_count": null,
   "metadata": {},
   "outputs": [
    {
     "name": "stdout",
     "output_type": "stream",
     "text": [
      "False\n"
     ]
    }
   ],
   "source": [
    "# check subsequence\n",
    "def is_subsequence(s, t):\n",
    "    i = 0\n",
    "    for char in s:\n",
    "        if i < len(t) and t[i] == char:\n",
    "            i += 1\n",
    "    return i == len(t)\n",
    "s = \"abcde\"\n",
    "t = \"ace\"\n",
    "print(is_subsequence(s, t))"
   ]
  },
  {
   "cell_type": "code",
   "execution_count": 17,
   "metadata": {},
   "outputs": [
    {
     "name": "stdout",
     "output_type": "stream",
     "text": [
      "True\n"
     ]
    }
   ],
   "source": [
    "def is_substring(s, t):\n",
    "    # word = s.split()\n",
    "    if t in s:\n",
    "        return True\n",
    "    else:\n",
    "        return False\n",
    "s = \"hello world\"\n",
    "t = \"world\"\n",
    "print(is_substring(s, t))"
   ]
  },
  {
   "cell_type": "code",
   "execution_count": 23,
   "metadata": {},
   "outputs": [
    {
     "name": "stdout",
     "output_type": "stream",
     "text": [
      "5\n"
     ]
    }
   ],
   "source": [
    "# check lenght of the longest word \n",
    "def longest_word_length(s):\n",
    "    current_word_len = 0\n",
    "    longest_word = 0\n",
    "    for char in s:\n",
    "        if char == \" \":\n",
    "            if current_word_len > longest_word:\n",
    "                 longest_word = current_word_len\n",
    "            current_word_len = 0\n",
    "        else:\n",
    "            current_word_len += 1\n",
    "    if current_word_len > longest_word:\n",
    "         longest_word = current_word_len\n",
    "    return longest_word\n",
    "s = \"The quick brown fox jumps over the lazy dog\"\n",
    "print(longest_word_length(s))"
   ]
  },
  {
   "cell_type": "code",
   "execution_count": 1,
   "metadata": {},
   "outputs": [
    {
     "name": "stdout",
     "output_type": "stream",
     "text": [
      "lines: 3, words: 25, characters:113\n"
     ]
    }
   ],
   "source": [
    "# read a text file and count the number of lines, words, and characters.\n",
    "# counting lines, words, and characters in a text file \n",
    "def count_text_file(file_path):\n",
    "    with open(file_path,'r') as file:\n",
    "        lines = file.readlines()\n",
    "        line_count = len(lines)\n",
    "        word_count = sum(len(line.split()) for line in lines)\n",
    "        char_count = sum(len(line) for line in lines)\n",
    "    return line_count,word_count,char_count\n",
    "\n",
    "file_path = 'simple.txt'\n",
    "lines, words, characters = count_text_file(file_path)\n",
    "print(f'lines: {lines}, words: {words}, characters:{characters}')\n",
    "\n"
   ]
  },
  {
   "cell_type": "code",
   "execution_count": null,
   "metadata": {},
   "outputs": [],
   "source": [
    "class error(Exception):\n",
    "    pass\n",
    "\n",
    "class Dobexception(error):\n",
    "    pass\n"
   ]
  }
 ],
 "metadata": {
  "kernelspec": {
   "display_name": "venv",
   "language": "python",
   "name": "python3"
  },
  "language_info": {
   "codemirror_mode": {
    "name": "ipython",
    "version": 3
   },
   "file_extension": ".py",
   "mimetype": "text/x-python",
   "name": "python",
   "nbconvert_exporter": "python",
   "pygments_lexer": "ipython3",
   "version": "3.12.7"
  }
 },
 "nbformat": 4,
 "nbformat_minor": 2
}
