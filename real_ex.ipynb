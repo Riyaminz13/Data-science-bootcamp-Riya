{
 "cells": [
  {
   "cell_type": "code",
   "execution_count": null,
   "metadata": {},
   "outputs": [],
   "source": [
    "### rela world example \n",
    "\n",
    "# organizing student grades \n",
    "grades = [65, 45, 77, 89, 63]\n",
    "\n",
    "# adding new grade\n",
    "grades.append(52)\n",
    "\n",
    "#calculating avrage of grades\n",
    "avg_grades= sum(grades)/len(grades)\n",
    "print(f\"avrage graders :{ avg_grades:.2f} \")\n",
    "\n",
    "highest_grades=max(grades)\n",
    "lowest_grades=min(grades)\n",
    "print(f\"Higest grades: \",highest_grades)\n",
    "print(f\"lowest grades: \",lowest_grades)\n",
    "\n",
    "print(grades)\n"
   ]
  },
  {
   "cell_type": "code",
   "execution_count": 25,
   "metadata": {},
   "outputs": [],
   "source": [
    "## funtions\n",
    "def even_odd(num):\n",
    "    if num%2==0:\n",
    "        print(\"numner in even\")\n",
    "    else:\n",
    "        print(\"number is odd.\")\n",
    "\n",
    "#add 2 numbers \n",
    "def sum_num (a,b):\n",
    "    return a+b\n"
   ]
  },
  {
   "cell_type": "code",
   "execution_count": null,
   "metadata": {},
   "outputs": [],
   "source": [
    "# even_odd(10)\n",
    "# even_odd(7)\n",
    "# sum_num(10,10)\n",
    "\n",
    "result = sum_num(10,10)\n",
    "print(\"addition is:\",result)\n",
    "\n"
   ]
  },
  {
   "cell_type": "code",
   "execution_count": 27,
   "metadata": {},
   "outputs": [],
   "source": [
    "def print_values(*riya):\n",
    "    for number in riya :\n",
    "        print(number)\n",
    "\n",
    "# keyword arguments\n",
    "def key_word(**kargus):\n",
    "    for key, values in kargus.items():\n",
    "        print(f\"{key}:{values}\")"
   ]
  },
  {
   "cell_type": "code",
   "execution_count": null,
   "metadata": {},
   "outputs": [],
   "source": [
    "print_values(1,2,3,4,5,6,\"riya\")\n",
    "\n",
    "key_word( name=\"riya\",age=\"29\",skill=\"python\")"
   ]
  },
  {
   "cell_type": "code",
   "execution_count": 34,
   "metadata": {},
   "outputs": [
    {
     "name": "stdout",
     "output_type": "stream",
     "text": [
      "{'hie': 1, 'there': 1, 'im': 1, 'riya': 1, 'minz': 2, '//nice': 1, 'to': 1, 'meet': 1, 'you': 3, 'riys': 1}\n"
     ]
    }
   ],
   "source": [
    "### frequency of words\n",
    "def count_frequency (file_path):\n",
    "    word_count={}\n",
    "    with open(file_path,'r') as  file:\n",
    "        for line in file:\n",
    "            words=line.split()\n",
    "            for word in words:\n",
    "                word=word.lower().strip('.,!?;:\"\\'')\n",
    "                word_count[word]=word_count.get(word,0)+1\n",
    "\n",
    "    return word_count\n",
    "\n",
    "filepath='simple.txt'\n",
    "word_frequency=count_frequency(filepath)\n",
    "print(word_frequency)\n"
   ]
  },
  {
   "cell_type": "code",
   "execution_count": 38,
   "metadata": {},
   "outputs": [
    {
     "name": "stdout",
     "output_type": "stream",
     "text": [
      "True\n",
      "False\n"
     ]
    }
   ],
   "source": [
    "#email validation check\n",
    "import re\n",
    "\n",
    "def email_check(email):\n",
    "    \"\"\"this function is to check if email is valid or not\"\"\"\n",
    "    pattern = r'^[a-zA-Z0-9_.+-]+@[a-zA-Z0-9-]+\\.[a-zA-Z0-9-.]+$'\n",
    "    return re.match(pattern, email) is not None\n",
    "\n",
    "# Calling the function\n",
    "print(email_check(\"test@example.com\"))  # Output: True\n",
    "print(email_check(\"invalid-email\"))  # Output: False\n"
   ]
  },
  {
   "cell_type": "code",
   "execution_count": null,
   "metadata": {},
   "outputs": [],
   "source": []
  },
  {
   "cell_type": "markdown",
   "metadata": {},
   "source": []
  }
 ],
 "metadata": {
  "kernelspec": {
   "display_name": "Python 3",
   "language": "python",
   "name": "python3"
  },
  "language_info": {
   "codemirror_mode": {
    "name": "ipython",
    "version": 3
   },
   "file_extension": ".py",
   "mimetype": "text/x-python",
   "name": "python",
   "nbconvert_exporter": "python",
   "pygments_lexer": "ipython3",
   "version": "3.12.0"
  }
 },
 "nbformat": 4,
 "nbformat_minor": 2
}
