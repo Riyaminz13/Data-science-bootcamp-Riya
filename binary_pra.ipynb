{
 "cells": [
  {
   "cell_type": "code",
   "execution_count": 5,
   "id": "9a41d484",
   "metadata": {},
   "outputs": [
    {
     "name": "stdout",
     "output_type": "stream",
     "text": [
      "7\n"
     ]
    }
   ],
   "source": [
    "# count negetive numbers in sorted matrix \n",
    "def countNegatives(grid):\n",
    "    count = 0\n",
    "    for row in grid:\n",
    "        for num in row:\n",
    "            if num < 0:\n",
    "                count += 1\n",
    "    return count\n",
    "grid = [[4, 3, 2, 1], [3, 2, 1, -1], [1, 1, -1, -2], [-1, -1, -2, -3]] \n",
    "print(countNegatives(grid))"
   ]
  },
  {
   "cell_type": "code",
   "execution_count": 6,
   "id": "30ae1da1",
   "metadata": {},
   "outputs": [
    {
     "name": "stdout",
     "output_type": "stream",
     "text": [
      "c\n"
     ]
    }
   ],
   "source": [
    "# find smallest letter greater then target \n",
    "def next_greatest_letter(letters, target):\n",
    "    for letter in letters:\n",
    "        if letter > target:\n",
    "            return letter\n",
    "    return letters[0] \n",
    "letters = ['c', 'f', 'j']\n",
    "target = 'k'\n",
    "print(next_greatest_letter(letters,target))"
   ]
  },
  {
   "cell_type": "code",
   "execution_count": 3,
   "id": "431af2c3",
   "metadata": {},
   "outputs": [
    {
     "name": "stdout",
     "output_type": "stream",
     "text": [
      "[3, 4]\n"
     ]
    }
   ],
   "source": [
    "# find first and last position of elemnt \n",
    "def searchRange(nums, target):\n",
    "    start = -1\n",
    "    end = -1\n",
    "    for i in range (len(nums)):\n",
    "        if nums[i] == target:\n",
    "            if start == -1:\n",
    "                start = i\n",
    "            end = i\n",
    "    return [start, end ]\n",
    "nums = [5, 7, 7, 8, 8, 10]\n",
    "target = 8 \n",
    "print(searchRange(nums, target))"
   ]
  },
  {
   "cell_type": "code",
   "execution_count": 6,
   "id": "98e11f77",
   "metadata": {},
   "outputs": [
    {
     "name": "stdout",
     "output_type": "stream",
     "text": [
      "0\n"
     ]
    }
   ],
   "source": [
    "def findMin(nums):\n",
    "    left = 0\n",
    "    right = len(nums)-1\n",
    "    while left < right:\n",
    "        mid = (left + right)//2\n",
    "        if nums[mid] > nums[right]:\n",
    "            left = mid + 1\n",
    "        else:\n",
    "            right = mid\n",
    "    return nums[left]\n",
    "nums = [4, 5, 6, 7, 0, 1, 2] \n",
    "print(findMin(nums))"
   ]
  },
  {
   "cell_type": "code",
   "execution_count": 11,
   "id": "008dab8a",
   "metadata": {},
   "outputs": [
    {
     "name": "stdout",
     "output_type": "stream",
     "text": [
      "4\n"
     ]
    }
   ],
   "source": [
    "# search in rotated array \n",
    "def search(nums, target):\n",
    "   left = 0\n",
    "   right = len(nums)-1\n",
    "   while left <= right:\n",
    "      mid = (left + right)//2\n",
    "      if nums[mid] == target:\n",
    "         return mid\n",
    "      if nums[left] < nums [mid]:\n",
    "         if nums[left] <= target < nums[mid]:\n",
    "            right = mid - 1\n",
    "         else:\n",
    "            left = mid + 1\n",
    "      else:\n",
    "         if nums[mid] < target <= nums[right]:\n",
    "            left = mid + 1\n",
    "         else:\n",
    "            right = mid - 1\n",
    "   else:\n",
    "      return -1\n",
    "nums = [4, 5, 6, 7, 0, 1, 2] \n",
    "target = 0\n",
    "print(search(nums,target))"
   ]
  },
  {
   "cell_type": "code",
   "execution_count": 27,
   "id": "2b59536c",
   "metadata": {},
   "outputs": [
    {
     "name": "stdout",
     "output_type": "stream",
     "text": [
      "9\n"
     ]
    }
   ],
   "source": [
    "# maximum element in the list \n",
    "def find_max_element(lst):\n",
    "    max = lst[0]\n",
    "    for i in range(1,len(lst)):\n",
    "        if lst[i] > max:\n",
    "            max = lst[i]\n",
    "    return max\n",
    "lst = [3, 5, 2, 9, 6]\n",
    "print(find_max_element(lst))"
   ]
  },
  {
   "cell_type": "code",
   "execution_count": 28,
   "id": "2f624347",
   "metadata": {},
   "outputs": [
    {
     "name": "stdout",
     "output_type": "stream",
     "text": [
      "-10\n"
     ]
    }
   ],
   "source": [
    "# sum of elemnts in the list\n",
    "def sum_of_elements(lst):\n",
    "    sum_of = lst[0]\n",
    "    for i in range (1,len(lst)):\n",
    "        sum_of = sum_of + lst[i]\n",
    "    return sum_of\n",
    "lst = [-1, -2, -3, -4]\n",
    "print(sum_of_elements(lst))"
   ]
  },
  {
   "cell_type": "code",
   "execution_count": 29,
   "id": "fd33b26b",
   "metadata": {},
   "outputs": [
    {
     "name": "stdout",
     "output_type": "stream",
     "text": [
      "True\n"
     ]
    }
   ],
   "source": [
    "def is_palindrome(lst):\n",
    "    backword = lst[::-1]\n",
    "    if backword == lst:\n",
    "        return True\n",
    "    else:\n",
    "       return False\n",
    "lst = [7, 8, 9, 8, 7]\n",
    "print(is_palindrome(lst))\n",
    "    "
   ]
  },
  {
   "cell_type": "code",
   "execution_count": 1,
   "id": "5df64584",
   "metadata": {},
   "outputs": [
    {
     "name": "stdout",
     "output_type": "stream",
     "text": [
      "[5, 4, 3, 2, 1]\n"
     ]
    }
   ],
   "source": [
    "# reverse a list \n",
    "def reverse_list(lst):\n",
    "    rev_lst = lst[::-1]\n",
    "    return rev_lst\n",
    "lst = [1, 2, 3, 4, 5]\n",
    "print(reverse_list(lst))"
   ]
  },
  {
   "cell_type": "code",
   "execution_count": 2,
   "id": "0abd3d48",
   "metadata": {},
   "outputs": [
    {
     "name": "stdout",
     "output_type": "stream",
     "text": [
      "[3, 4, 5, 1, 2]\n"
     ]
    }
   ],
   "source": [
    "# rotate list \n",
    "def rotate_left(ARR, D):\n",
    "    rot_lst = []\n",
    "    for i in range (D,len(ARR)):\n",
    "        rot_lst.append(ARR[i])\n",
    "    for i in range(D):\n",
    "        rot_lst.append(ARR[i])\n",
    "    return rot_lst\n",
    "ARR = [1, 2, 3, 4, 5] \n",
    "D = 2\n",
    "print(rotate_left(ARR,D))"
   ]
  },
  {
   "cell_type": "code",
   "execution_count": null,
   "id": "dcdda132",
   "metadata": {},
   "outputs": [],
   "source": []
  }
 ],
 "metadata": {
  "kernelspec": {
   "display_name": "venv",
   "language": "python",
   "name": "python3"
  },
  "language_info": {
   "codemirror_mode": {
    "name": "ipython",
    "version": 3
   },
   "file_extension": ".py",
   "mimetype": "text/x-python",
   "name": "python",
   "nbconvert_exporter": "python",
   "pygments_lexer": "ipython3",
   "version": "3.12.7"
  }
 },
 "nbformat": 4,
 "nbformat_minor": 5
}
